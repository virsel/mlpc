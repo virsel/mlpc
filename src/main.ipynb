{
 "cells": [
  {
   "cell_type": "code",
   "execution_count": 51,
   "metadata": {},
   "outputs": [
    {
     "name": "stdout",
     "output_type": "stream",
     "text": [
      "<class 'pandas.core.frame.DataFrame'>\n",
      "RangeIndex: 157789 entries, 0 to 157788\n",
      "Data columns (total 3 columns):\n",
      " #   Column  Non-Null Count   Dtype \n",
      "---  ------  --------------   ----- \n",
      " 0   id      157789 non-null  object\n",
      " 1   text    157789 non-null  object\n",
      " 2   label   157789 non-null  int64 \n",
      "dtypes: int64(1), object(2)\n",
      "memory usage: 3.6+ MB\n"
     ]
    }
   ],
   "source": [
    "# read csv with pandas\n",
    "import pandas as pd\n",
    "\n",
    "data_path = '../data_input/train.csv'\n",
    "df = pd.read_csv(data_path, usecols=['id', 'text', 'label'])\n",
    "df.info()"
   ]
  },
  {
   "cell_type": "code",
   "execution_count": 52,
   "metadata": {},
   "outputs": [
    {
     "data": {
      "text/plain": [
       "5000"
      ]
     },
     "execution_count": 52,
     "metadata": {},
     "output_type": "execute_result"
    }
   ],
   "source": [
    "vocab = set(df['text'].str.cat(sep=' ').split())\n",
    "len(vocab)"
   ]
  },
  {
   "cell_type": "code",
   "execution_count": 53,
   "metadata": {},
   "outputs": [],
   "source": [
    "vocab = sorted(list(vocab))"
   ]
  },
  {
   "cell_type": "code",
   "execution_count": 54,
   "metadata": {},
   "outputs": [],
   "source": [
    "stoi = {s:i+1 for i,s in enumerate(vocab)}\n",
    "stoi['.'] = 0\n",
    "itos = {i:s for s,i in stoi.items()}"
   ]
  },
  {
   "cell_type": "code",
   "execution_count": 55,
   "metadata": {},
   "outputs": [
    {
     "data": {
      "text/plain": [
       "5001"
      ]
     },
     "execution_count": 55,
     "metadata": {},
     "output_type": "execute_result"
    }
   ],
   "source": [
    "len(stoi)"
   ]
  },
  {
   "cell_type": "code",
   "execution_count": 56,
   "metadata": {},
   "outputs": [],
   "source": [
    "import torch"
   ]
  },
  {
   "cell_type": "code",
   "execution_count": 57,
   "metadata": {},
   "outputs": [],
   "source": [
    "# make X from df['text'] with vtoi\n",
    "X = df['text'].apply(lambda x: [stoi[v] for v in x.split()])"
   ]
  },
  {
   "cell_type": "code",
   "execution_count": 58,
   "metadata": {},
   "outputs": [
    {
     "data": {
      "text/plain": [
       "[2516,\n",
       " 2927,\n",
       " 1155,\n",
       " 2516,\n",
       " 880,\n",
       " 3663,\n",
       " 1025,\n",
       " 3113,\n",
       " 1652,\n",
       " 3663,\n",
       " 3652,\n",
       " 2927,\n",
       " 2943,\n",
       " 2186]"
      ]
     },
     "execution_count": 58,
     "metadata": {},
     "output_type": "execute_result"
    }
   ],
   "source": [
    "X[0]"
   ]
  },
  {
   "cell_type": "code",
   "execution_count": 59,
   "metadata": {},
   "outputs": [],
   "source": [
    "X = X.apply(lambda x: [0]*(30-len(x)) + list(x) if len(x) < 30  else x[:30])"
   ]
  },
  {
   "cell_type": "code",
   "execution_count": 60,
   "metadata": {},
   "outputs": [],
   "source": [
    "# get pandas item from X\n",
    "X = torch.tensor(X)"
   ]
  },
  {
   "cell_type": "code",
   "execution_count": 61,
   "metadata": {},
   "outputs": [
    {
     "data": {
      "text/plain": [
       "tensor([   0,    0,    0,    0,    0,    0,    0,    0,    0,    0,    0,    0,\n",
       "           0,    0,    0,    0, 2516, 2927, 1155, 2516,  880, 3663, 1025, 3113,\n",
       "        1652, 3663, 3652, 2927, 2943, 2186])"
      ]
     },
     "execution_count": 61,
     "metadata": {},
     "output_type": "execute_result"
    }
   ],
   "source": [
    "X[0]"
   ]
  },
  {
   "cell_type": "code",
   "execution_count": 62,
   "metadata": {},
   "outputs": [
    {
     "data": {
      "text/plain": [
       "tensor([[1., 0., 0.,  ..., 0., 0., 0.],\n",
       "        [1., 0., 0.,  ..., 0., 0., 0.],\n",
       "        [1., 0., 0.,  ..., 0., 0., 0.],\n",
       "        ...,\n",
       "        [0., 0., 0.,  ..., 0., 0., 0.],\n",
       "        [0., 0., 0.,  ..., 0., 0., 0.],\n",
       "        [0., 0., 0.,  ..., 0., 0., 0.]])"
      ]
     },
     "execution_count": 62,
     "metadata": {},
     "output_type": "execute_result"
    }
   ],
   "source": [
    "# one hot encode X row element with vocab size\n",
    "torch.nn.functional.one_hot(X[0], num_classes=len(stoi)).float()"
   ]
  },
  {
   "cell_type": "code",
   "execution_count": 63,
   "metadata": {},
   "outputs": [],
   "source": [
    "Y = torch.tensor(df['label'])"
   ]
  },
  {
   "cell_type": "code",
   "execution_count": 64,
   "metadata": {},
   "outputs": [],
   "source": [
    "# split X and Y into train and val, stratify by Y\n",
    "from sklearn.model_selection import train_test_split\n",
    "\n",
    "X_train, X_val, Y_train, Y_val = train_test_split(X, Y, test_size=0.2, stratify=Y)"
   ]
  },
  {
   "cell_type": "code",
   "execution_count": 65,
   "metadata": {},
   "outputs": [
    {
     "data": {
      "text/plain": [
       "(torch.Size([126231, 30]), torch.Size([31558, 30]))"
      ]
     },
     "execution_count": 65,
     "metadata": {},
     "output_type": "execute_result"
    }
   ],
   "source": [
    "X_train.shape, X_val.shape"
   ]
  },
  {
   "cell_type": "code",
   "execution_count": 66,
   "metadata": {},
   "outputs": [],
   "source": [
    "emb_dim = 5"
   ]
  },
  {
   "cell_type": "code",
   "execution_count": 67,
   "metadata": {},
   "outputs": [],
   "source": [
    "g = torch.Generator().manual_seed(2147483647) # for reproducibility\n",
    "C = torch.randn((len(stoi), emb_dim), generator=g)"
   ]
  },
  {
   "cell_type": "code",
   "execution_count": 68,
   "metadata": {},
   "outputs": [
    {
     "data": {
      "text/plain": [
       "torch.Size([5001, 5])"
      ]
     },
     "execution_count": 68,
     "metadata": {},
     "output_type": "execute_result"
    }
   ],
   "source": [
    "C.shape"
   ]
  },
  {
   "cell_type": "code",
   "execution_count": 69,
   "metadata": {},
   "outputs": [
    {
     "data": {
      "text/plain": [
       "torch.Size([4, 30])"
      ]
     },
     "execution_count": 69,
     "metadata": {},
     "output_type": "execute_result"
    }
   ],
   "source": [
    "X_train[range(4)].shape"
   ]
  },
  {
   "cell_type": "code",
   "execution_count": 70,
   "metadata": {},
   "outputs": [
    {
     "data": {
      "text/plain": [
       "torch.Size([4, 30, 5])"
      ]
     },
     "execution_count": 70,
     "metadata": {},
     "output_type": "execute_result"
    }
   ],
   "source": [
    "emb = C[X_train[range(4)]] # (32, 3, 10)\n",
    "emb.shape"
   ]
  },
  {
   "cell_type": "code",
   "execution_count": 71,
   "metadata": {},
   "outputs": [
    {
     "data": {
      "text/plain": [
       "5000"
      ]
     },
     "execution_count": 71,
     "metadata": {},
     "output_type": "execute_result"
    }
   ],
   "source": [
    "len(vocab)"
   ]
  },
  {
   "cell_type": "code",
   "execution_count": 183,
   "metadata": {},
   "outputs": [],
   "source": [
    "# forward pass\n",
    "import torch.nn as nn\n",
    "import torch.nn.functional as F\n",
    "\n",
    "class Linear(nn.Linear):\n",
    "    def __init__(self, in_features, out_features, bias=True):\n",
    "        super(Linear, self).__init__(in_features, out_features, bias)\n",
    "        self.out = None\n",
    "        \n",
    "    def forward(self, x):\n",
    "        self.out = super().forward(x)\n",
    "        return self.out\n",
    "\n",
    "class Net(nn.Module):\n",
    "    def __init__(self):\n",
    "        super(Net, self).__init__()\n",
    "        g = torch.Generator().manual_seed(2147483647) # for reproducibility\n",
    "        C = torch.randn((len(stoi), emb_dim), generator=g)\n",
    "        # self.C.requires_grad = True\n",
    "        # set C to be parameters\n",
    "        self.register_parameter('C', nn.Parameter(C))\n",
    "        self.fc1 = Linear(30 * emb_dim, 100, bias=False)\n",
    "        self.bn1 = nn.BatchNorm1d(100)\n",
    "        self.act1 = nn.Tanh()\n",
    "        self.fc2 = Linear(100, 20)\n",
    "        self.act2 = nn.Tanh()\n",
    "        self.fc3 = Linear(20, 5)\n",
    "        \n",
    "    def forward(self, x):\n",
    "        emb = self.C[x]\n",
    "        self.fc1.out = self.fc1(emb.view(-1, 30 * emb_dim))\n",
    "        self.bn1.out = self.bn1(self.fc1.out)\n",
    "        self.act1.out = self.act1(self.bn1.out)\n",
    "        self.fc2.out = self.fc2(self.act1.out)\n",
    "        self.act2.out = self.act2(self.fc2.out)\n",
    "        self.fc3.out = self.fc3(self.act2.out)\n",
    "        return self.fc3.out\n",
    "    \n",
    "    def get_layers(self):\n",
    "        layers = []\n",
    "        for module in self.modules():\n",
    "            if isinstance(module, nn.Linear) or isinstance(module, nn.BatchNorm1d) or isinstance(module, nn.Tanh):\n",
    "                layers.append(module)\n",
    "        return layers\n",
    "    \n",
    "    def get_parameters(self):\n",
    "        parameters = [self.C]\n",
    "        for module in self.modules():\n",
    "            if isinstance(module, nn.Linear) or isinstance(module, nn.BatchNorm1d):\n",
    "                parameters.append(module.weight)\n",
    "                if module.bias is not None:\n",
    "                    parameters.append(module.bias)\n",
    "        return parameters"
   ]
  },
  {
   "cell_type": "code",
   "execution_count": 184,
   "metadata": {},
   "outputs": [],
   "source": [
    "import torch.optim as optim\n",
    "\n",
    "net = Net()\n",
    "criterion = nn.CrossEntropyLoss()"
   ]
  },
  {
   "cell_type": "code",
   "execution_count": 212,
   "metadata": {},
   "outputs": [
    {
     "data": {
      "text/plain": [
       "42330"
      ]
     },
     "execution_count": 212,
     "metadata": {},
     "output_type": "execute_result"
    }
   ],
   "source": [
    "parameters = net.parameters()\n",
    "\n",
    "# print out count of parameters\n"
   ]
  },
  {
   "cell_type": "code",
   "execution_count": 213,
   "metadata": {},
   "outputs": [
    {
     "data": {
      "text/plain": [
       "0"
      ]
     },
     "execution_count": 213,
     "metadata": {},
     "output_type": "execute_result"
    }
   ],
   "source": [
    "sum(p.numel() for p in parameters)"
   ]
  },
  {
   "cell_type": "code",
   "execution_count": 189,
   "metadata": {},
   "outputs": [],
   "source": [
    "optimizer = optim.Adam(net.parameters(), lr=0.001)"
   ]
  },
  {
   "cell_type": "code",
   "execution_count": 190,
   "metadata": {},
   "outputs": [
    {
     "data": {
      "text/plain": [
       "[Linear(in_features=150, out_features=100, bias=False),\n",
       " BatchNorm1d(100, eps=1e-05, momentum=0.1, affine=True, track_running_stats=True),\n",
       " Tanh(),\n",
       " Linear(in_features=100, out_features=20, bias=True),\n",
       " Tanh(),\n",
       " Linear(in_features=20, out_features=5, bias=True)]"
      ]
     },
     "execution_count": 190,
     "metadata": {},
     "output_type": "execute_result"
    }
   ],
   "source": [
    "layers = net.get_layers()\n",
    "layers"
   ]
  },
  {
   "cell_type": "code",
   "execution_count": null,
   "metadata": {},
   "outputs": [],
   "source": []
  },
  {
   "cell_type": "code",
   "execution_count": 221,
   "metadata": {},
   "outputs": [
    {
     "name": "stdout",
     "output_type": "stream",
     "text": [
      "None\n",
      "None\n",
      "None\n",
      "None\n",
      "None\n",
      "None\n",
      "None\n",
      "None\n"
     ]
    }
   ],
   "source": [
    "for p in net.parameters():\n",
    "\n",
    "    print(p.grad)"
   ]
  },
  {
   "cell_type": "code",
   "execution_count": 262,
   "metadata": {},
   "outputs": [],
   "source": [
    "lossi = []\n",
    "ud = []"
   ]
  },
  {
   "cell_type": "code",
   "execution_count": 275,
   "metadata": {},
   "outputs": [
    {
     "name": "stdout",
     "output_type": "stream",
     "text": [
      "      0/ 100000: 1.0387\n",
      "   1000/ 100000: 1.1158\n",
      "   2000/ 100000: 1.1927\n",
      "   3000/ 100000: 1.2483\n",
      "   4000/ 100000: 1.2639\n",
      "   5000/ 100000: 1.3732\n",
      "   6000/ 100000: 1.0139\n",
      "   7000/ 100000: 0.9608\n",
      "   8000/ 100000: 1.0570\n",
      "   9000/ 100000: 1.1277\n",
      "  10000/ 100000: 1.1656\n",
      "  11000/ 100000: 1.0567\n",
      "  12000/ 100000: 1.0822\n",
      "  13000/ 100000: 1.2469\n",
      "  14000/ 100000: 1.0169\n",
      "  15000/ 100000: 1.0935\n",
      "  16000/ 100000: 1.0920\n",
      "  17000/ 100000: 1.2662\n",
      "  18000/ 100000: 0.9779\n",
      "  19000/ 100000: 0.9816\n",
      "  20000/ 100000: 1.1304\n",
      "  21000/ 100000: 1.3097\n",
      "  22000/ 100000: 1.1241\n",
      "  23000/ 100000: 1.1023\n",
      "  24000/ 100000: 0.9611\n",
      "  25000/ 100000: 1.0636\n",
      "  26000/ 100000: 1.1107\n",
      "  27000/ 100000: 0.9960\n",
      "  28000/ 100000: 1.0146\n",
      "  29000/ 100000: 1.1441\n",
      "  30000/ 100000: 1.0403\n",
      "  31000/ 100000: 1.1457\n",
      "  32000/ 100000: 1.2535\n",
      "  33000/ 100000: 0.7500\n",
      "  34000/ 100000: 1.1511\n",
      "  35000/ 100000: 1.1536\n",
      "  36000/ 100000: 1.2225\n",
      "  37000/ 100000: 1.0021\n",
      "  38000/ 100000: 1.0230\n",
      "  39000/ 100000: 1.1107\n",
      "  40000/ 100000: 0.9977\n",
      "  41000/ 100000: 1.2557\n",
      "  42000/ 100000: 1.1330\n",
      "  43000/ 100000: 0.9123\n",
      "  44000/ 100000: 1.1530\n",
      "  45000/ 100000: 0.9187\n",
      "  46000/ 100000: 1.1134\n",
      "  47000/ 100000: 1.1046\n",
      "  48000/ 100000: 1.0983\n",
      "  49000/ 100000: 0.8696\n",
      "  50000/ 100000: 0.9841\n",
      "  51000/ 100000: 1.0968\n",
      "  52000/ 100000: 0.9428\n",
      "  53000/ 100000: 0.9922\n",
      "  54000/ 100000: 1.3516\n",
      "  55000/ 100000: 0.8260\n",
      "  56000/ 100000: 1.1180\n",
      "  57000/ 100000: 0.8936\n",
      "  58000/ 100000: 1.1333\n",
      "  59000/ 100000: 0.9271\n",
      "  60000/ 100000: 1.0188\n",
      "  61000/ 100000: 1.3145\n",
      "  62000/ 100000: 0.9727\n",
      "  63000/ 100000: 1.0898\n",
      "  64000/ 100000: 1.0602\n",
      "  65000/ 100000: 0.9600\n",
      "  66000/ 100000: 1.1117\n",
      "  67000/ 100000: 0.9967\n",
      "  68000/ 100000: 0.8962\n",
      "  69000/ 100000: 1.0649\n",
      "  70000/ 100000: 0.9018\n",
      "  71000/ 100000: 1.1444\n",
      "  72000/ 100000: 0.8940\n",
      "  73000/ 100000: 1.0569\n",
      "  74000/ 100000: 0.9457\n",
      "  75000/ 100000: 0.9987\n",
      "  76000/ 100000: 1.0115\n",
      "  77000/ 100000: 0.9112\n",
      "  78000/ 100000: 0.9238\n",
      "  79000/ 100000: 0.8757\n",
      "  80000/ 100000: 0.9779\n",
      "  81000/ 100000: 1.1112\n",
      "  82000/ 100000: 0.8998\n",
      "  83000/ 100000: 0.7125\n",
      "  84000/ 100000: 0.9277\n",
      "  85000/ 100000: 1.0659\n",
      "  86000/ 100000: 1.3648\n",
      "  87000/ 100000: 0.9266\n",
      "  88000/ 100000: 1.1812\n",
      "  89000/ 100000: 1.2789\n",
      "  90000/ 100000: 1.1344\n",
      "  91000/ 100000: 1.1521\n",
      "  92000/ 100000: 1.1091\n",
      "  93000/ 100000: 1.0038\n",
      "  94000/ 100000: 1.3364\n",
      "  95000/ 100000: 0.8967\n",
      "  96000/ 100000: 1.0086\n",
      "  97000/ 100000: 0.9994\n",
      "  98000/ 100000: 0.9015\n",
      "  99000/ 100000: 1.0620\n"
     ]
    }
   ],
   "source": [
    "# same optimization as last time\n",
    "max_steps = 100000\n",
    "batch_size = 32\n",
    "\n",
    "\n",
    "# train\n",
    "for i in range(max_steps):\n",
    "    # train with batches and consider the last batch\n",
    "    batch_size = 32\n",
    "    # minibatch construct\n",
    "    ix = torch.randint(0, X_train.shape[0], (batch_size,))\n",
    "\n",
    "    outputs = net(X_train[ix])\n",
    "    loss = criterion(outputs, Y_train[ix])\n",
    "    \n",
    "    # backward pass\n",
    "    for layer in layers:\n",
    "      layer.out.retain_grad() # AFTER_DEBUG: would take out retain_graph\n",
    "    for p in net.parameters():\n",
    "      p.grad = None\n",
    "    loss.backward()\n",
    "    \n",
    "    # update\n",
    "    lr = 0.1 if i < 150000 else 0.01 # step learning rate decay\n",
    "    for p in net.parameters():\n",
    "      p.data += -lr * p.grad\n",
    "\n",
    "    # track stats\n",
    "    if i % 1000 == 0: # print every once in a while\n",
    "      print(f'{i:7d}/{max_steps:7d}: {loss.item():.4f}')\n",
    "    lossi.append(loss.log10().item())\n",
    "    with torch.no_grad():\n",
    "      ud.append([((lr*p.grad).std() / p.data.std()).log10().item() for p in parameters])\n",
    "\n",
    "    if i >= 10000:\n",
    "      pass #break # AFTER_DEBUG: would take out obviously to run full optimization"
   ]
  },
  {
   "cell_type": "code",
   "execution_count": 276,
   "metadata": {},
   "outputs": [
    {
     "data": {
      "text/plain": [
       "tensor(1.2232, grad_fn=<NllLossBackward0>)"
      ]
     },
     "execution_count": 276,
     "metadata": {},
     "output_type": "execute_result"
    }
   ],
   "source": [
    "outputs = net(X_val)\n",
    "loss = F.cross_entropy(outputs, Y_val)\n",
    "loss"
   ]
  },
  {
   "cell_type": "code",
   "execution_count": 277,
   "metadata": {},
   "outputs": [
    {
     "name": "stdout",
     "output_type": "stream",
     "text": [
      "              precision    recall  f1-score   support\n",
      "\n",
      "           0       0.59      0.58      0.59      6353\n",
      "           1       0.37      0.41      0.39      6462\n",
      "           2       0.35      0.30      0.32      6337\n",
      "           3       0.43      0.35      0.38      6244\n",
      "           4       0.58      0.74      0.65      6162\n",
      "\n",
      "    accuracy                           0.47     31558\n",
      "   macro avg       0.47      0.47      0.47     31558\n",
      "weighted avg       0.46      0.47      0.47     31558\n",
      "\n"
     ]
    }
   ],
   "source": [
    "from sklearn.metrics import classification_report\n",
    "\n",
    "Y_pred = outputs.argmax(dim=1).detach().numpy()\n",
    "Y_true = Y_val.numpy()\n",
    "\n",
    "print(classification_report(Y_true, Y_pred))"
   ]
  },
  {
   "cell_type": "code",
   "execution_count": 278,
   "metadata": {},
   "outputs": [
    {
     "name": "stdout",
     "output_type": "stream",
     "text": [
      "tensor([ 1.6411, -0.0504,  0.6932, -1.2872,  0.5409],\n",
      "       grad_fn=<SelectBackward0>)\n"
     ]
    }
   ],
   "source": [
    "print(net.C[0])\n"
   ]
  },
  {
   "cell_type": "code",
   "execution_count": 279,
   "metadata": {},
   "outputs": [
    {
     "name": "stdout",
     "output_type": "stream",
     "text": [
      "layer 2 (Tanh): mean -0.01, std 0.80, saturated: 30.42%\n",
      "layer 4 (Tanh): mean -0.10, std 0.87, saturated: 52.19%\n"
     ]
    },
    {
     "data": {
      "text/plain": [
       "Text(0.5, 1.0, 'activation distribution')"
      ]
     },
     "execution_count": 279,
     "metadata": {},
     "output_type": "execute_result"
    },
    {
     "data": {
      "image/png": "[encoded data removed]",
      "text/plain": [
       "<Figure size 2000x400 with 1 Axes>"
      ]
     },
     "metadata": {},
     "output_type": "display_data"
    }
   ],
   "source": [
    "import matplotlib.pyplot as plt\n",
    "\n",
    "layers = net.get_layers()\n",
    "\n",
    "# visualize histograms\n",
    "plt.figure(figsize=(20, 4)) # width and height of the plot\n",
    "legends = []\n",
    "for i, layer in enumerate(layers[:-1]): # note: exclude the output layer\n",
    "  if isinstance(layer, nn.Tanh):\n",
    "    t = layer.out\n",
    "    print('layer %d (%s): mean %+.2f, std %.2f, saturated: %.2f%%' % (i, layer.__class__.__name__, t.mean(), t.std(), (t.abs() > 0.97).float().mean()*100))\n",
    "    hy, hx = torch.histogram(t, density=True)\n",
    "    plt.plot(hx[:-1].detach(), hy.detach())\n",
    "    legends.append(f'layer {i} ({layer.__class__.__name__})')\n",
    "plt.legend(legends);\n",
    "plt.title('activation distribution')"
   ]
  },
  {
   "cell_type": "code",
   "execution_count": 280,
   "metadata": {},
   "outputs": [
    {
     "data": {
      "image/png": "[encoded data removed]",
      "text/plain": [
       "<Figure size 2000x400 with 1 Axes>"
      ]
     },
     "metadata": {},
     "output_type": "display_data"
    }
   ],
   "source": [
    "plt.figure(figsize=(20, 4))\n",
    "legends = []\n",
    "for i,p in enumerate(parameters):\n",
    "  if p.ndim == 2:\n",
    "    plt.plot([ud[j][i] for j in range(len(ud))])\n",
    "    legends.append('param %d' % i)\n",
    "plt.plot([0, len(ud)], [-3, -3], 'k') # these ratios should be ~1e-3, indicate on plot\n",
    "plt.legend(legends);"
   ]
  }
 ],
 "metadata": {
  "kernelspec": {
   "display_name": "ml_angew_programm",
   "language": "python",
   "name": "python3"
  },
  "language_info": {
   "codemirror_mode": {
    "name": "ipython",
    "version": 3
   },
   "file_extension": ".py",
   "mimetype": "text/x-python",
   "name": "python",
   "nbconvert_exporter": "python",
   "pygments_lexer": "ipython3",
   "version": "3.8.19"
  }
 },
 "nbformat": 4,
 "nbformat_minor": 2
}
